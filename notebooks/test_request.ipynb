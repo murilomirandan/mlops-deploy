{
 "cells": [
  {
   "cell_type": "code",
   "execution_count": 11,
   "metadata": {},
   "outputs": [],
   "source": [
    "import requests"
   ]
  },
  {
   "cell_type": "code",
   "execution_count": 12,
   "metadata": {},
   "outputs": [
    {
     "name": "stdout",
     "output_type": "stream",
     "text": [
      "200\n",
      "{\n",
      "  \"preco\": 191436.5350383143\n",
      "}\n",
      "\n"
     ]
    }
   ],
   "source": [
    "url = \"http://127.0.0.1:5000/regression\"\n",
    "payload = {\"tamanho\":120, \"ano\":2001, \"garagem\":2}\n",
    "response = requests.post(url, json=payload)\n",
    "print(response.status_code)\n",
    "print(response.text)"
   ]
  },
  {
   "cell_type": "code",
   "execution_count": 10,
   "metadata": {},
   "outputs": [
    {
     "name": "stdout",
     "output_type": "stream",
     "text": [
      "200\n",
      "Polaridade: 0.8\n"
     ]
    }
   ],
   "source": [
    "auth=requests.auth.HTTPBasicAuth('murilo', '123456')\n",
    "url = \"http://127.0.0.1:5000/sentiment/Python é ótimo para Machine Learning\"\n",
    "response = requests.get(url, auth=auth)\n",
    "print(response.status_code)\n",
    "print(response.text)"
   ]
  }
 ],
 "metadata": {
  "kernelspec": {
   "display_name": "Python 3.10.2 64-bit",
   "language": "python",
   "name": "python3"
  },
  "language_info": {
   "codemirror_mode": {
    "name": "ipython",
    "version": 3
   },
   "file_extension": ".py",
   "mimetype": "text/x-python",
   "name": "python",
   "nbconvert_exporter": "python",
   "pygments_lexer": "ipython3",
   "version": "3.10.2"
  },
  "orig_nbformat": 4,
  "vscode": {
   "interpreter": {
    "hash": "369f2c481f4da34e4445cda3fffd2e751bd1c4d706f27375911949ba6bb62e1c"
   }
  }
 },
 "nbformat": 4,
 "nbformat_minor": 2
}
